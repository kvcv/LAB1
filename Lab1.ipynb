{
 "cells": [
  {
   "cell_type": "code",
   "execution_count": null,
   "id": "a6dbedae",
   "metadata": {},
   "outputs": [],
   "source": [
    "#Karol Cardenas \n",
    "#100898355"
   ]
  },
  {
   "cell_type": "code",
   "execution_count": 2,
   "id": "bfcb141b",
   "metadata": {},
   "outputs": [
    {
     "name": "stdout",
     "output_type": "stream",
     "text": [
      "Enter your first number: 2\n",
      "Enter your second number: 3\n",
      "5\n"
     ]
    }
   ],
   "source": [
    "number_1 = int(input('Enter your first number: '))\n",
    "number_2 = int(input('Enter your second number: '))\n",
    "\n",
    "print(number_1 + number_2)"
   ]
  }
 ],
 "metadata": {
  "kernelspec": {
   "display_name": "Python 3 (ipykernel)",
   "language": "python",
   "name": "python3"
  },
  "language_info": {
   "codemirror_mode": {
    "name": "ipython",
    "version": 3
   },
   "file_extension": ".py",
   "mimetype": "text/x-python",
   "name": "python",
   "nbconvert_exporter": "python",
   "pygments_lexer": "ipython3",
   "version": "3.11.5"
  }
 },
 "nbformat": 4,
 "nbformat_minor": 5
}
