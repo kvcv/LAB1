{
 "cells": [
  {
   "cell_type": "code",
   "execution_count": null,
   "id": "a6dbedae",
   "metadata": {},
   "outputs": [],
   "source": [
    "#Karol Cardenas \n",
    "#100898355"
   ]
  },
  {
   "cell_type": "code",
   "execution_count": 9,
   "id": "bfcb141b",
   "metadata": {},
   "outputs": [
    {
     "name": "stdout",
     "output_type": "stream",
     "text": [
      "Enter your first number: 2\n",
      "Enter your second number: 3\n"
     ]
    }
   ],
   "source": [
    "number_1 = int(input('Enter your first number: '))\n",
    "number_2 = int(input('Enter your second number: '))"
   ]
  },
  {
   "cell_type": "code",
   "execution_count": 10,
   "id": "71168121",
   "metadata": {},
   "outputs": [
    {
     "name": "stdout",
     "output_type": "stream",
     "text": [
      "Rest =  -1\n"
     ]
    }
   ],
   "source": [
    "print(\"Rest = \", number_1 - number_2)"
   ]
  },
  {
   "cell_type": "code",
   "execution_count": 11,
   "id": "d9d5e3a3",
   "metadata": {},
   "outputs": [
    {
     "name": "stdout",
     "output_type": "stream",
     "text": [
      "Mult =  6\n"
     ]
    }
   ],
   "source": [
    "print(\"Mult = \", number_1 * number_2)"
   ]
  },
  {
   "cell_type": "code",
   "execution_count": 12,
   "id": "fde12fa7",
   "metadata": {},
   "outputs": [
    {
     "name": "stdout",
     "output_type": "stream",
     "text": [
      "Div =  0.6666666666666666\n"
     ]
    }
   ],
   "source": [
    "print(\"Div = \", number_1 / number_2)"
   ]
  },
  {
   "cell_type": "code",
   "execution_count": null,
   "id": "223d0f55",
   "metadata": {},
   "outputs": [],
   "source": []
  }
 ],
 "metadata": {
  "kernelspec": {
   "display_name": "Python 3 (ipykernel)",
   "language": "python",
   "name": "python3"
  },
  "language_info": {
   "codemirror_mode": {
    "name": "ipython",
    "version": 3
   },
   "file_extension": ".py",
   "mimetype": "text/x-python",
   "name": "python",
   "nbconvert_exporter": "python",
   "pygments_lexer": "ipython3",
   "version": "3.11.5"
  }
 },
 "nbformat": 4,
 "nbformat_minor": 5
}
